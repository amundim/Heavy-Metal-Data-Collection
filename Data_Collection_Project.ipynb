{
 "cells": [
  {
   "cell_type": "markdown",
   "metadata": {},
   "source": [
    "# Data Collection Project - Heavy Metal data from Wikipedia and Spotify"
   ]
  },
  {
   "cell_type": "markdown",
   "metadata": {},
   "source": [
    "#### Libraries and Packages"
   ]
  },
  {
   "cell_type": "code",
   "execution_count": null,
   "metadata": {},
   "outputs": [],
   "source": [
    "from bs4 import BeautifulSoup\n",
    "import requests\n",
    "import pandas as pd\n",
    "import numpy as np"
   ]
  },
  {
   "cell_type": "code",
   "execution_count": null,
   "metadata": {},
   "outputs": [],
   "source": [
    "import re"
   ]
  },
  {
   "cell_type": "markdown",
   "metadata": {},
   "source": [
    "#### Scrapping Wikipedia Data: Genres and Band Names"
   ]
  },
  {
   "cell_type": "code",
   "execution_count": null,
   "metadata": {
    "scrolled": true
   },
   "outputs": [],
   "source": [
    "# Getting URLs\n",
    "\n",
    "source = 'https://en.wikipedia.org/wiki/Heavy_metal_genres'\n",
    "response = requests.get(source)\n",
    "soup = BeautifulSoup(response.text, 'html.parser')\n",
    "pages = soup.find(class_='navbox-list navbox-odd')\n",
    "pages = pages.findAll('a')\n",
    "\n",
    "links = []\n",
    "\n",
    "for page in pages:\n",
    "    links.append(('List_of_' + page.get('title').lower().replace(' ','_') + '_bands').replace('_music',''))"
   ]
  },
  {
   "cell_type": "code",
   "execution_count": null,
   "metadata": {},
   "outputs": [],
   "source": [
    "def string_ajustment(band):\n",
    "    \"\"\"Ajustment of the retrieved band name string\"\"\"\n",
    "    \n",
    "    end = band.find('[') # Remove brackets from band name\n",
    "    if end > -1:\n",
    "        band = band[:end]\n",
    "    else:\n",
    "        band = band\n",
    "                    \n",
    "    end = band.find('(') # Remove parentesis from band name\n",
    "    if end > -1:\n",
    "        band = band[:end]\n",
    "        \n",
    "    band = band.title().rstrip() # Uppercase in first letters; last space removal\n",
    "        \n",
    "    return band"
   ]
  },
  {
   "cell_type": "code",
   "execution_count": null,
   "metadata": {
    "scrolled": false
   },
   "outputs": [],
   "source": [
    "%%time\n",
    "\n",
    "data = []\n",
    "genres = []\n",
    "\n",
    "for link in links:\n",
    "    url = 'https://en.wikipedia.org/wiki/' + link\n",
    "    genre = url[url.rfind('/') + 1:]\n",
    "    \n",
    "    list_from = ['List_of_', '_bands', ',_!–K', ',_L–Z', '_']\n",
    "    list_to = ['', '', '', '', ' ']\n",
    "    \n",
    "    for idx, element in enumerate(list_from):\n",
    "        genre = genre.replace(list_from[idx], list_to[idx])\n",
    "    \n",
    "    genre = genre.title()\n",
    "    response = requests.get(url)\n",
    "    soup = BeautifulSoup(response.text, 'html.parser')\n",
    "    \n",
    "    # Table detection\n",
    "    tables = []\n",
    "    tables = soup.find_all('table', {'class':'wikitable'}) # 1st attempt\n",
    "    if len(tables) == 0:\n",
    "        tables = soup.find_all('table', {'class':'wikitable sortable'}) # 2nd attempt\n",
    "    \n",
    "    # Getting table data\n",
    "    if len(tables) > 0: # pages with tables\n",
    "        genres.append(genre)\n",
    "        for table in tables:\n",
    "            table = table.tbody\n",
    "            rows = table.find_all('tr')\n",
    "            columns = [v.text.replace('\\n', '') for v in rows[0].find_all('th')]\n",
    "\n",
    "            for i in range(1, len(rows)):\n",
    "                tds = rows[i].find_all('td')\n",
    "                band = tds[0].text.replace('\\n', '')\n",
    "                band = string_ajustment(band)\n",
    "                values = [band, genre]\n",
    "                    \n",
    "                data.append(pd.Series(values)) # Append band\n",
    "    else:\n",
    "        # Getting data in lists\n",
    "        groups = soup.find_all('div', class_ = 'div-col columns column-width') # Groups being lists of bands, 1st attempt\n",
    "        if len(groups) == 0:\n",
    "            groups = soup.find_all('table', {'class':'multicol'}) # Groups being lists of bands, 2nd attempt\n",
    "        \n",
    "        for group in groups:\n",
    "            genres.append(genre)\n",
    "            array = group.text.split('\\n')[1:len(group.text.split('\\n'))-1]\n",
    "            \n",
    "            for band in array:\n",
    "                if (band != '0-9'):                    \n",
    "                    band = string_ajustment(band)\n",
    "                    if (band.find('Reference') > -1) or (band.find('See also') > -1): # Remove text without band name\n",
    "                        break\n",
    "                    elif len(band) > 1:\n",
    "                        values = [band, genre]\n",
    "                        data.append(pd.Series(values)) # Append band\n",
    "                        \n",
    "    if genre not in genres: # Two possibilities: either data in multiple urls or no data available (non-relevant genre)\n",
    "        additional_links = [link  + ',_!–K', link  + ',_L–Z']\n",
    "        \n",
    "        for additional_link in additional_links:\n",
    "            url = 'https://en.wikipedia.org/wiki/' + additional_link\n",
    "            response = requests.get(url)\n",
    "            soup = BeautifulSoup(response.text, 'html.parser')\n",
    "            groups = soup.find_all('table', {'class':'multicol'}) # Groups being lists of bands\n",
    "            \n",
    "            for group in groups:\n",
    "                genres.append(genre)\n",
    "                array = group.text.split('\\n')[1:len(group.text.split('\\n'))-1]\n",
    "                \n",
    "                for band in array:\n",
    "                    if (band != '0-9'):\n",
    "                        band = string_ajustment(band)\n",
    "                        \n",
    "                        if (band.find('Reference') > -1) or (band.find('See also') > -1): # Remove text without band name\n",
    "                            break\n",
    "                        elif len(band) > 1:\n",
    "                            values = [band, genre]\n",
    "                            data.append(pd.Series(values)) # Append band"
   ]
  },
  {
   "cell_type": "code",
   "execution_count": null,
   "metadata": {},
   "outputs": [],
   "source": [
    "df_bands = pd.DataFrame(data)\n",
    "df_bands.columns = ['Band', 'Genre']\n",
    "df_bands.drop_duplicates(inplace=True)\n",
    "\n",
    "df_bands"
   ]
  },
  {
   "cell_type": "code",
   "execution_count": null,
   "metadata": {
    "scrolled": true
   },
   "outputs": [],
   "source": [
    "df_bands.groupby(['Genre']).count()"
   ]
  },
  {
   "cell_type": "code",
   "execution_count": null,
   "metadata": {},
   "outputs": [],
   "source": [
    "df_bands.groupby(['Band']).count()[df_bands.groupby(['Band']).count()['Genre']>=2]"
   ]
  },
  {
   "cell_type": "code",
   "execution_count": null,
   "metadata": {},
   "outputs": [],
   "source": [
    "# Amount of bands with multiple genres\n",
    "print('The number of bands with multiple genres is', len(df_bands.groupby(['Band']).count()[df_bands.groupby(['Band']).count()['Genre']>=2]))\n",
    "print('This is equivalent of the following percentage of the data:', len(df_bands.groupby(['Band']).count()[df_bands.groupby(['Band']).count()['Genre']>=2])/len(df_bands))"
   ]
  },
  {
   "cell_type": "code",
   "execution_count": null,
   "metadata": {},
   "outputs": [],
   "source": [
    "df_unique = pd.DataFrame(df_bands['Band'].drop_duplicates()) # Auxiliary dataframe containing only band names\n",
    "df_unique"
   ]
  },
  {
   "cell_type": "markdown",
   "metadata": {},
   "source": [
    "#### Spotify API Authorization"
   ]
  },
  {
   "cell_type": "code",
   "execution_count": null,
   "metadata": {
    "scrolled": true
   },
   "outputs": [],
   "source": [
    "!pip install requests"
   ]
  },
  {
   "cell_type": "code",
   "execution_count": null,
   "metadata": {},
   "outputs": [],
   "source": [
    "import base64\n",
    "import requests\n",
    "import datetime\n",
    "from urllib.parse import urlencode"
   ]
  },
  {
   "cell_type": "code",
   "execution_count": null,
   "metadata": {},
   "outputs": [],
   "source": [
    "client_id ='YOUR_CLIENT_ID'\n",
    "client_secret = 'YOUR_CLIENT_SECRET'"
   ]
  },
  {
   "cell_type": "code",
   "execution_count": null,
   "metadata": {},
   "outputs": [],
   "source": [
    "class SpotifyAPI(object):\n",
    "    access_token = None\n",
    "    access_token_expires = datetime.datetime.now()\n",
    "    access_token_did_expire = True\n",
    "    client_id = None\n",
    "    client_secret = None\n",
    "    token_url = 'https://accounts.spotify.com/api/token'\n",
    "    \n",
    "    def __init__(self, client_id, client_secret, *args, **kwargs):\n",
    "        super().__init__(*args, **kwargs)\n",
    "        self.client_id = client_id\n",
    "        self.client_secret = client_secret\n",
    "    \n",
    "    def get_client_credentials(self):\n",
    "        \"\"\"\n",
    "        Returns a base64 encoded string \n",
    "        \"\"\"\n",
    "        client_id = self.client_id\n",
    "        client_secret = self.client_secret\n",
    "        \n",
    "        if (client_id == None) or (client_secret == None):\n",
    "            raise Exception('You must set client_id and client secret')\n",
    "        client_creds = f'{client_id}:{client_secret}'\n",
    "        client_creds_b64 = base64.b64encode(client_creds.encode())\n",
    "        return client_creds_b64.decode()\n",
    "    \n",
    "    def get_token_headers(self):\n",
    "        client_creds_b64 = self.get_client_credentials()\n",
    "        return {\n",
    "            'Authorization': f'Basic {client_creds_b64}' # <base64 encoded client_id:client_secret>\n",
    "        }\n",
    "    \n",
    "    def get_token_data(self):\n",
    "        return {\n",
    "            'grant_type': 'client_credentials'\n",
    "        }\n",
    "    \n",
    "    def perform_auth(self):\n",
    "        token_url = self.token_url\n",
    "        token_data = self.get_token_data()\n",
    "        token_headers = self.get_token_headers()        \n",
    "        r = requests.post(token_url, data=token_data, headers=token_headers)\n",
    "        if r.status_code not in range(200, 299):\n",
    "            raise Exception('Could not authenticate client.')\n",
    "        data = r.json()\n",
    "        now = datetime.datetime.now()\n",
    "        access_token = data['access_token']\n",
    "        expires_in = data['expires_in'] # seconds\n",
    "        expires = now + datetime.timedelta(seconds=expires_in)\n",
    "        self.access_token = access_token\n",
    "        self.access_token_expires = expires\n",
    "        self.access_token_did_expire = expires < now\n",
    "        return True\n",
    "    \n",
    "    def get_access_token(self):\n",
    "        token = self.access_token\n",
    "        expires = self.access_token_expires\n",
    "        now = datetime.datetime.now()\n",
    "        if expires < now:\n",
    "            self.perform_auth()\n",
    "            return self.get_access_token()\n",
    "        elif token == None:\n",
    "            self.perform_auth()\n",
    "            return self.get_access_token()\n",
    "        return token\n",
    "    \n",
    "    def get_resource_header(self):\n",
    "        access_token = self.get_access_token()\n",
    "        headers = {\n",
    "            'Authorization': f'Bearer {access_token}'\n",
    "        }\n",
    "        return headers\n",
    "    \n",
    "    def get_resource(self, lookup_id, resource_type='albums', version='v1'):\n",
    "        \n",
    "        if resource_type == 'tracks':\n",
    "            endpoint = f'https://api.spotify.com/{version}/albums/{lookup_id}/{resource_type}'\n",
    "        elif resource_type == 'features':\n",
    "            endpoint = f'https://api.spotify.com/{version}/audio-features/{lookup_id}'\n",
    "        elif resource_type == 'analysis':\n",
    "            endpoint = f'https://api.spotify.com/{version}/audio-analysis/{lookup_id}'\n",
    "        elif resource_type == 'popularity':\n",
    "            endpoint = f'https://api.spotify.com/{version}/tracks/{lookup_id}'\n",
    "        elif resource_type != 'albums':\n",
    "            endpoint = f'https://api.spotify.com/{version}/{resource_type}/{lookup_id}'  \n",
    "        else:\n",
    "            endpoint = f'https://api.spotify.com/{version}/artists/{lookup_id}/albums' # Get an Artist's Albums\n",
    "            \n",
    "        headers = self.get_resource_header()\n",
    "        r = requests.get(endpoint, headers=headers)\n",
    "        if r.status_code not in range(200, 299):\n",
    "            return {}\n",
    "        return r.json()\n",
    "        \n",
    "    def get_artist(self, _id):\n",
    "        return self.get_resource(_id, resource_type='artists')\n",
    "    \n",
    "    def get_albums(self, _id):\n",
    "        return self.get_resource(_id, resource_type='albums')\n",
    "    \n",
    "    def get_album_tracks(self, _id):\n",
    "        return self.get_resource(_id, resource_type='tracks')\n",
    "    \n",
    "    def get_track_features(self, _id):\n",
    "        return self.get_resource(_id, resource_type='features')\n",
    "\n",
    "    def get_track_analysis(self, _id):\n",
    "        return self.get_resource(_id, resource_type='analysis')\n",
    "    \n",
    "    def get_track_popularity(self, _id):\n",
    "        return self.get_resource(_id, resource_type='popularity')\n",
    "    \n",
    "    def get_next(self, result):\n",
    "        \"\"\" returns the next result given a paged result\n",
    "            Parameters:\n",
    "            - result - a previously returned paged result\n",
    "        \"\"\"\n",
    "        if result['next']:\n",
    "            return self.get_next_resource(result['next'])\n",
    "        else:\n",
    "            return None\n",
    "        \n",
    "    def get_next_resource(self, url):\n",
    "        endpoint = url\n",
    "        headers = self.get_resource_header()\n",
    "        r = requests.get(endpoint, headers=headers)\n",
    "        if r.status_code not in range(200, 299):\n",
    "            return {}\n",
    "        return r.json()\n",
    "    \n",
    "    def base_search(self, query_params): # search_type = spotify's type\n",
    "        headers = self.get_resource_header()\n",
    "        endpoint = 'https://api.spotify.com/v1/search'        \n",
    "        lookup_url = f'{endpoint}?{query_params}'\n",
    "        r = requests.get(lookup_url, headers=headers)\n",
    "        if r.status_code not in range(200, 299):\n",
    "            return {}\n",
    "        return r.json()\n",
    "    \n",
    "    def search(self, query=None, operator=None, operator_query=None, search_type='artist'):\n",
    "        if query == None:\n",
    "            raise Exception('A query is required.')\n",
    "        if isinstance(query, dict):\n",
    "            query = ' '.join([f'{k}:{v}' for k, v in query.items()])\n",
    "        if operator != None and operator_query != None:\n",
    "            if (operator.lower() == 'or') or (operator.lower() == 'not'): # Operators can only be OR or NOT \n",
    "                operator = operator.upper()\n",
    "                if isinstance(operator_query, str):\n",
    "                    query = f'{query} {operator} {operator_query}'\n",
    "        query_params = urlencode({'q': query, 'type': search_type.lower()})\n",
    "        return self.base_search(query_params)"
   ]
  },
  {
   "cell_type": "markdown",
   "metadata": {},
   "source": [
    "#### Spotify Data Retrieval: Bands"
   ]
  },
  {
   "cell_type": "code",
   "execution_count": null,
   "metadata": {},
   "outputs": [],
   "source": [
    "spotify = SpotifyAPI(client_id, client_secret)"
   ]
  },
  {
   "cell_type": "code",
   "execution_count": null,
   "metadata": {
    "scrolled": true
   },
   "outputs": [],
   "source": [
    "%%time\n",
    "\n",
    "bands_id = []\n",
    "bands_popularity = []\n",
    "\n",
    "for band in df_unique['Band']:\n",
    "    id_found = False\n",
    "    result = spotify.search(query=band, search_type='artist')\n",
    "    items = result['artists']['items']\n",
    "    \n",
    "    if len(items) > 0: # Loop to check whether more than one band is in items and retrieve desired band\n",
    "        i = 0\n",
    "        while i < len(items):\n",
    "            artist = items[i]\n",
    "            if band.lower() == artist['name'].lower():\n",
    "                bands_id.append(artist['id'])\n",
    "                bands_popularity.append(artist['popularity'])\n",
    "                id_found = True\n",
    "                break\n",
    "            i = i + 1\n",
    "    \n",
    "    if (id_found == False) or (len(items) == 0): # If band not found\n",
    "        bands_id.append(np.nan)\n",
    "        bands_popularity.append(np.nan)"
   ]
  },
  {
   "cell_type": "code",
   "execution_count": null,
   "metadata": {},
   "outputs": [],
   "source": [
    "df_unique['Band ID'] = bands_id\n",
    "df_unique['Band Popularity'] = bands_popularity\n",
    "df_unique = df_unique.dropna() # Dropping bands with uri not found\n",
    "df_unique.sort_values('Band')\n",
    "df_unique"
   ]
  },
  {
   "cell_type": "markdown",
   "metadata": {},
   "source": [
    "#### Spotify Data Retrieval: Albums"
   ]
  },
  {
   "cell_type": "code",
   "execution_count": null,
   "metadata": {
    "scrolled": true
   },
   "outputs": [],
   "source": [
    "%%time\n",
    "\n",
    "# Retrieve album data\n",
    "\n",
    "data = []\n",
    "album_names = []\n",
    "\n",
    "for band_id in df_unique['Band ID'].values:\n",
    "    try:\n",
    "        results = spotify.get_albums(band_id)\n",
    "    except:\n",
    "        pass\n",
    "    else:\n",
    "        i = 0\n",
    "        while i < len(results['items']):\n",
    "            album_name = re.sub(r'\\W+', '', str(results['items'][i]['name'])).lower()\n",
    "            if (album_name not in album_names) and (results['items'][i]['album_type'] == 'album') and (results['items'][i]['artists'][0]['name'] != 'Various Artists'): # Avoid adding the same album twice, non-albums listed as albums (such as compilations)\n",
    "                album_names.append(album_name)\n",
    "                values = [band_id, results['items'][i]['name'], results['items'][i]['id'], results['items'][i]['release_date']]\n",
    "                data.append(pd.Series(values))\n",
    "#                 print(band_id, results['items'][i]['name'], '-', results['items'][i]['id'])\n",
    "            \n",
    "        while results['next']:\n",
    "            try:\n",
    "                results = spotify.get_next(results)\n",
    "            except:\n",
    "                pass\n",
    "            else:\n",
    "                i = 0\n",
    "                while i < len(results['items']):\n",
    "                    album_name = re.sub(r'\\W+', '', str(results['items'][i]['name'])).lower()\n",
    "                    if (album_name not in album_names) and (results['items'][i]['album_type'] == 'album') and (results['items'][i]['artists'][0]['name'] != 'Various Artists'): # Avoid adding the same album twice, non-albums listed as albums (such as compilations)\n",
    "                        album_names.append(album_name)\n",
    "                        values = [band_id, results['items'][i]['name'], results['items'][i]['id'], results['items'][i]['release_date']]\n",
    "                        data.append(pd.Series(values))\n",
    "#                         print(band_id, results['items'][i]['name'], '-', results['items'][i]['id'])\n",
    "                    i = i + 1"
   ]
  },
  {
   "cell_type": "code",
   "execution_count": null,
   "metadata": {},
   "outputs": [],
   "source": [
    "df_albums = pd.DataFrame(data)\n",
    "df_albums.columns = ['Band ID', 'Album Name', 'Album ID', 'Release Date']\n",
    "df_albums.drop_duplicates(inplace=True) # Dropping duplicate albums\n",
    "df_albums"
   ]
  },
  {
   "cell_type": "code",
   "execution_count": null,
   "metadata": {},
   "outputs": [],
   "source": [
    "df_albums = pd.merge(df_albums, df_unique, on='Band ID')\n",
    "df_albums"
   ]
  },
  {
   "cell_type": "code",
   "execution_count": null,
   "metadata": {},
   "outputs": [],
   "source": [
    "df_albums[df_albums['Band']=='Parkway Drive']"
   ]
  },
  {
   "cell_type": "markdown",
   "metadata": {},
   "source": [
    "#### Spotify Data Retrieval: Tracks & Features"
   ]
  },
  {
   "cell_type": "code",
   "execution_count": null,
   "metadata": {
    "scrolled": true
   },
   "outputs": [],
   "source": [
    "%%time\n",
    "\n",
    "# Retrieve track data\n",
    "\n",
    "data = []\n",
    "\n",
    "for album_id in df_albums['Album ID'].values:\n",
    "#     print(len(data))\n",
    "    try:\n",
    "        results = spotify.get_album_tracks(album_id)\n",
    "    except:\n",
    "        pass\n",
    "    else:\n",
    "        i = 0\n",
    "        while i < len(results['items']): \n",
    "            # Track Features\n",
    "            try:\n",
    "                track_features_dict = spotify.get_track_features(results['items'][i]['id'])\n",
    "            except:\n",
    "                pass\n",
    "            else:\n",
    "                track_features = list(track_features_dict.values())\n",
    "\n",
    "                values = [album_id, results['items'][i]['name'], results['items'][i]['id']] + track_features\n",
    "                data.append(pd.Series(values))\n",
    "    #             print(values)\n",
    "                \n",
    "                if i == 0:\n",
    "                    features_names = ['Album ID', 'Track Name', 'Track ID'] + list(track_features_dict.keys())\n",
    "\n",
    "                i = i + 1\n",
    "            \n",
    "        while results['next']:\n",
    "            try:\n",
    "                results = spotify.get_next(results)\n",
    "            except:\n",
    "                pass\n",
    "            else:\n",
    "                i = 0\n",
    "                while i < len(results['items']):\n",
    "                    # Track Features\n",
    "                    try:\n",
    "                        track_features_dict = spotify.get_track_features(results['items'][i]['id'])\n",
    "                    except:\n",
    "                        pass\n",
    "                    else:\n",
    "                        track_features = list(track_features_dict.values())\n",
    "\n",
    "                        values = [album_id, results['items'][i]['name'], results['items'][i]['id']] + track_features\n",
    "                        data.append(pd.Series(values))\n",
    "                        i = i + 1"
   ]
  },
  {
   "cell_type": "code",
   "execution_count": null,
   "metadata": {},
   "outputs": [],
   "source": [
    "df_tracks = pd.DataFrame(data)\n",
    "df_tracks.columns = features_names\n",
    "df_tracks"
   ]
  },
  {
   "cell_type": "markdown",
   "metadata": {},
   "source": [
    "#### Spotify Data Retrieval: Track Popularity "
   ]
  },
  {
   "cell_type": "code",
   "execution_count": null,
   "metadata": {},
   "outputs": [],
   "source": [
    "tracks_popularity = []\n",
    "\n",
    "for idx, track_id in enumerate(df_tracks['Track ID']):\n",
    "#     print(idx, len(df))\n",
    "    try:\n",
    "        tracks_popularity.append(spotify.get_track_popularity(track_id)['popularity'])\n",
    "    except:\n",
    "        tracks_popularity.append(np.nan)\n",
    "        pass\n",
    "    \n",
    "df_tracks['Track Popularity'] = tracks_popularity"
   ]
  },
  {
   "cell_type": "code",
   "execution_count": null,
   "metadata": {},
   "outputs": [],
   "source": [
    "df = pd.merge(df_albums, df_tracks, on='Album ID')\n",
    "df = pd.merge(df, df_bands, on='Band')"
   ]
  },
  {
   "cell_type": "markdown",
   "metadata": {},
   "source": [
    "#### Creating a backup file"
   ]
  },
  {
   "cell_type": "code",
   "execution_count": null,
   "metadata": {},
   "outputs": [],
   "source": [
    "df.to_csv('C:/Users/spotifydata.csv', sep=';')"
   ]
  }
 ],
 "metadata": {
  "kernelspec": {
   "display_name": "Python 3",
   "language": "python",
   "name": "python3"
  },
  "language_info": {
   "codemirror_mode": {
    "name": "ipython",
    "version": 3
   },
   "file_extension": ".py",
   "mimetype": "text/x-python",
   "name": "python",
   "nbconvert_exporter": "python",
   "pygments_lexer": "ipython3",
   "version": "3.7.4"
  }
 },
 "nbformat": 4,
 "nbformat_minor": 2
}
